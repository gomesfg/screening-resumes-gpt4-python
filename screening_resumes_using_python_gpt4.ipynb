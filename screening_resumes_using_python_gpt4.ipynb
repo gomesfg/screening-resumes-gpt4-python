{
  "nbformat": 4,
  "nbformat_minor": 0,
  "metadata": {
    "colab": {
      "provenance": []
    },
    "kernelspec": {
      "name": "python3",
      "display_name": "Python 3"
    },
    "language_info": {
      "name": "python"
    }
  },
  "cells": [
    {
      "cell_type": "markdown",
      "source": [
        "[![Open in Colab](https://colab.research.google.com/assets/colab-badge.svg)](https://colab.research.google.com/github/gomesfg/screening-resumes-gpt4-python/blob/main/screening_resumes_using_python_gpt4.ipynb)"
      ],
      "metadata": {
        "id": "fVxu6M9IwkQ1"
      }
    },
    {
      "cell_type": "code",
      "source": [
        "!pip install openai"
      ],
      "metadata": {
        "colab": {
          "base_uri": "https://localhost:8080/"
        },
        "id": "QCiiYMPhbjmK",
        "outputId": "d3e4365b-db66-475a-bf69-f783382bc587"
      },
      "execution_count": 2,
      "outputs": [
        {
          "output_type": "stream",
          "name": "stdout",
          "text": [
            "Looking in indexes: https://pypi.org/simple, https://us-python.pkg.dev/colab-wheels/public/simple/\n",
            "Collecting openai\n",
            "  Downloading openai-0.27.2-py3-none-any.whl (70 kB)\n",
            "\u001b[2K     \u001b[90m━━━━━━━━━━━━━━━━━━━━━━━━━━━━━━━━━━━━━━━━\u001b[0m \u001b[32m70.1/70.1 KB\u001b[0m \u001b[31m1.6 MB/s\u001b[0m eta \u001b[36m0:00:00\u001b[0m\n",
            "\u001b[?25hRequirement already satisfied: tqdm in /usr/local/lib/python3.9/dist-packages (from openai) (4.65.0)\n",
            "Collecting aiohttp\n",
            "  Downloading aiohttp-3.8.4-cp39-cp39-manylinux_2_17_x86_64.manylinux2014_x86_64.whl (1.0 MB)\n",
            "\u001b[2K     \u001b[90m━━━━━━━━━━━━━━━━━━━━━━━━━━━━━━━━━━━━━━━━\u001b[0m \u001b[32m1.0/1.0 MB\u001b[0m \u001b[31m6.5 MB/s\u001b[0m eta \u001b[36m0:00:00\u001b[0m\n",
            "\u001b[?25hRequirement already satisfied: requests>=2.20 in /usr/local/lib/python3.9/dist-packages (from openai) (2.27.1)\n",
            "Requirement already satisfied: idna<4,>=2.5 in /usr/local/lib/python3.9/dist-packages (from requests>=2.20->openai) (3.4)\n",
            "Requirement already satisfied: certifi>=2017.4.17 in /usr/local/lib/python3.9/dist-packages (from requests>=2.20->openai) (2022.12.7)\n",
            "Requirement already satisfied: charset-normalizer~=2.0.0 in /usr/local/lib/python3.9/dist-packages (from requests>=2.20->openai) (2.0.12)\n",
            "Requirement already satisfied: urllib3<1.27,>=1.21.1 in /usr/local/lib/python3.9/dist-packages (from requests>=2.20->openai) (1.26.15)\n",
            "Collecting frozenlist>=1.1.1\n",
            "  Downloading frozenlist-1.3.3-cp39-cp39-manylinux_2_5_x86_64.manylinux1_x86_64.manylinux_2_17_x86_64.manylinux2014_x86_64.whl (158 kB)\n",
            "\u001b[2K     \u001b[90m━━━━━━━━━━━━━━━━━━━━━━━━━━━━━━━━━━━━━━━\u001b[0m \u001b[32m158.8/158.8 KB\u001b[0m \u001b[31m6.2 MB/s\u001b[0m eta \u001b[36m0:00:00\u001b[0m\n",
            "\u001b[?25hCollecting aiosignal>=1.1.2\n",
            "  Downloading aiosignal-1.3.1-py3-none-any.whl (7.6 kB)\n",
            "Collecting yarl<2.0,>=1.0\n",
            "  Downloading yarl-1.8.2-cp39-cp39-manylinux_2_17_x86_64.manylinux2014_x86_64.whl (264 kB)\n",
            "\u001b[2K     \u001b[90m━━━━━━━━━━━━━━━━━━━━━━━━━━━━━━━━━━━━━━━\u001b[0m \u001b[32m264.6/264.6 KB\u001b[0m \u001b[31m9.7 MB/s\u001b[0m eta \u001b[36m0:00:00\u001b[0m\n",
            "\u001b[?25hCollecting multidict<7.0,>=4.5\n",
            "  Downloading multidict-6.0.4-cp39-cp39-manylinux_2_17_x86_64.manylinux2014_x86_64.whl (114 kB)\n",
            "\u001b[2K     \u001b[90m━━━━━━━━━━━━━━━━━━━━━━━━━━━━━━━━━━━━━━━\u001b[0m \u001b[32m114.2/114.2 KB\u001b[0m \u001b[31m2.4 MB/s\u001b[0m eta \u001b[36m0:00:00\u001b[0m\n",
            "\u001b[?25hCollecting async-timeout<5.0,>=4.0.0a3\n",
            "  Downloading async_timeout-4.0.2-py3-none-any.whl (5.8 kB)\n",
            "Requirement already satisfied: attrs>=17.3.0 in /usr/local/lib/python3.9/dist-packages (from aiohttp->openai) (22.2.0)\n",
            "Installing collected packages: multidict, frozenlist, async-timeout, yarl, aiosignal, aiohttp, openai\n",
            "Successfully installed aiohttp-3.8.4 aiosignal-1.3.1 async-timeout-4.0.2 frozenlist-1.3.3 multidict-6.0.4 openai-0.27.2 yarl-1.8.2\n"
          ]
        }
      ]
    },
    {
      "cell_type": "code",
      "execution_count": 3,
      "metadata": {
        "id": "uAy6shYGbceK"
      },
      "outputs": [],
      "source": [
        "import openai\n",
        "import pandas as pd"
      ]
    },
    {
      "cell_type": "code",
      "source": [
        "df = pd.read_csv('https://raw.githubusercontent.com/gomesfg/screening-resumes-gpt4-python/main/seed/candidate_resumes.csv', sep=';', encoding='latin-1')\n",
        "df"
      ],
      "metadata": {
        "colab": {
          "base_uri": "https://localhost:8080/",
          "height": 457
        },
        "id": "_LMEeLbitdgh",
        "outputId": "e4d1d6a4-8433-4fc3-f34a-fcef715bfed7"
      },
      "execution_count": 4,
      "outputs": [
        {
          "output_type": "execute_result",
          "data": {
            "text/plain": [
              "                Nome                                             Resumo\n",
              "0     Fernanda Silva  Fernanda Silva é uma desenvolvedora de softwar...\n",
              "1       Pedro Garcia  Pedro Garcia é um engenheiro de software focad...\n",
              "2      Ana Rodriguez  Ana Rodriguez é uma desenvolvedora de software...\n",
              "3    Carlos Martinez  Carlos Martinez é um desenvolvedor de aplicati...\n",
              "4        Laura Perez  Laura Perez é uma desenvolvedora de back-end c...\n",
              "5   Miguel Rodriguez  Miguel Rodriguez é um desenvolvedor de softwar...\n",
              "6      Isabela Silva  Isabela Silva é uma desenvolvedora de software...\n",
              "7         João Silva  João Silva é um desenvolvedor de software full...\n",
              "8          Ana Maria  Ana Maria é uma desenvolvedora de software com...\n",
              "9    Marcos Oliveira  Marcos Oliveira é um desenvolvedor de software...\n",
              "10    Carolina Silva  Carolina Silva é uma desenvolvedora de softwar...\n",
              "11     Rafael Santos  Rafael Santos é um desenvolvedor de software c...\n",
              "12      Juliana Lima  Juliana Lima é uma desenvolvedora de software ..."
            ],
            "text/html": [
              "\n",
              "  <div id=\"df-95054da7-58e2-4805-a40b-f98e9667201c\">\n",
              "    <div class=\"colab-df-container\">\n",
              "      <div>\n",
              "<style scoped>\n",
              "    .dataframe tbody tr th:only-of-type {\n",
              "        vertical-align: middle;\n",
              "    }\n",
              "\n",
              "    .dataframe tbody tr th {\n",
              "        vertical-align: top;\n",
              "    }\n",
              "\n",
              "    .dataframe thead th {\n",
              "        text-align: right;\n",
              "    }\n",
              "</style>\n",
              "<table border=\"1\" class=\"dataframe\">\n",
              "  <thead>\n",
              "    <tr style=\"text-align: right;\">\n",
              "      <th></th>\n",
              "      <th>Nome</th>\n",
              "      <th>Resumo</th>\n",
              "    </tr>\n",
              "  </thead>\n",
              "  <tbody>\n",
              "    <tr>\n",
              "      <th>0</th>\n",
              "      <td>Fernanda Silva</td>\n",
              "      <td>Fernanda Silva é uma desenvolvedora de softwar...</td>\n",
              "    </tr>\n",
              "    <tr>\n",
              "      <th>1</th>\n",
              "      <td>Pedro Garcia</td>\n",
              "      <td>Pedro Garcia é um engenheiro de software focad...</td>\n",
              "    </tr>\n",
              "    <tr>\n",
              "      <th>2</th>\n",
              "      <td>Ana Rodriguez</td>\n",
              "      <td>Ana Rodriguez é uma desenvolvedora de software...</td>\n",
              "    </tr>\n",
              "    <tr>\n",
              "      <th>3</th>\n",
              "      <td>Carlos Martinez</td>\n",
              "      <td>Carlos Martinez é um desenvolvedor de aplicati...</td>\n",
              "    </tr>\n",
              "    <tr>\n",
              "      <th>4</th>\n",
              "      <td>Laura Perez</td>\n",
              "      <td>Laura Perez é uma desenvolvedora de back-end c...</td>\n",
              "    </tr>\n",
              "    <tr>\n",
              "      <th>5</th>\n",
              "      <td>Miguel Rodriguez</td>\n",
              "      <td>Miguel Rodriguez é um desenvolvedor de softwar...</td>\n",
              "    </tr>\n",
              "    <tr>\n",
              "      <th>6</th>\n",
              "      <td>Isabela Silva</td>\n",
              "      <td>Isabela Silva é uma desenvolvedora de software...</td>\n",
              "    </tr>\n",
              "    <tr>\n",
              "      <th>7</th>\n",
              "      <td>João Silva</td>\n",
              "      <td>João Silva é um desenvolvedor de software full...</td>\n",
              "    </tr>\n",
              "    <tr>\n",
              "      <th>8</th>\n",
              "      <td>Ana Maria</td>\n",
              "      <td>Ana Maria é uma desenvolvedora de software com...</td>\n",
              "    </tr>\n",
              "    <tr>\n",
              "      <th>9</th>\n",
              "      <td>Marcos Oliveira</td>\n",
              "      <td>Marcos Oliveira é um desenvolvedor de software...</td>\n",
              "    </tr>\n",
              "    <tr>\n",
              "      <th>10</th>\n",
              "      <td>Carolina Silva</td>\n",
              "      <td>Carolina Silva é uma desenvolvedora de softwar...</td>\n",
              "    </tr>\n",
              "    <tr>\n",
              "      <th>11</th>\n",
              "      <td>Rafael Santos</td>\n",
              "      <td>Rafael Santos é um desenvolvedor de software c...</td>\n",
              "    </tr>\n",
              "    <tr>\n",
              "      <th>12</th>\n",
              "      <td>Juliana Lima</td>\n",
              "      <td>Juliana Lima é uma desenvolvedora de software ...</td>\n",
              "    </tr>\n",
              "  </tbody>\n",
              "</table>\n",
              "</div>\n",
              "      <button class=\"colab-df-convert\" onclick=\"convertToInteractive('df-95054da7-58e2-4805-a40b-f98e9667201c')\"\n",
              "              title=\"Convert this dataframe to an interactive table.\"\n",
              "              style=\"display:none;\">\n",
              "        \n",
              "  <svg xmlns=\"http://www.w3.org/2000/svg\" height=\"24px\"viewBox=\"0 0 24 24\"\n",
              "       width=\"24px\">\n",
              "    <path d=\"M0 0h24v24H0V0z\" fill=\"none\"/>\n",
              "    <path d=\"M18.56 5.44l.94 2.06.94-2.06 2.06-.94-2.06-.94-.94-2.06-.94 2.06-2.06.94zm-11 1L8.5 8.5l.94-2.06 2.06-.94-2.06-.94L8.5 2.5l-.94 2.06-2.06.94zm10 10l.94 2.06.94-2.06 2.06-.94-2.06-.94-.94-2.06-.94 2.06-2.06.94z\"/><path d=\"M17.41 7.96l-1.37-1.37c-.4-.4-.92-.59-1.43-.59-.52 0-1.04.2-1.43.59L10.3 9.45l-7.72 7.72c-.78.78-.78 2.05 0 2.83L4 21.41c.39.39.9.59 1.41.59.51 0 1.02-.2 1.41-.59l7.78-7.78 2.81-2.81c.8-.78.8-2.07 0-2.86zM5.41 20L4 18.59l7.72-7.72 1.47 1.35L5.41 20z\"/>\n",
              "  </svg>\n",
              "      </button>\n",
              "      \n",
              "  <style>\n",
              "    .colab-df-container {\n",
              "      display:flex;\n",
              "      flex-wrap:wrap;\n",
              "      gap: 12px;\n",
              "    }\n",
              "\n",
              "    .colab-df-convert {\n",
              "      background-color: #E8F0FE;\n",
              "      border: none;\n",
              "      border-radius: 50%;\n",
              "      cursor: pointer;\n",
              "      display: none;\n",
              "      fill: #1967D2;\n",
              "      height: 32px;\n",
              "      padding: 0 0 0 0;\n",
              "      width: 32px;\n",
              "    }\n",
              "\n",
              "    .colab-df-convert:hover {\n",
              "      background-color: #E2EBFA;\n",
              "      box-shadow: 0px 1px 2px rgba(60, 64, 67, 0.3), 0px 1px 3px 1px rgba(60, 64, 67, 0.15);\n",
              "      fill: #174EA6;\n",
              "    }\n",
              "\n",
              "    [theme=dark] .colab-df-convert {\n",
              "      background-color: #3B4455;\n",
              "      fill: #D2E3FC;\n",
              "    }\n",
              "\n",
              "    [theme=dark] .colab-df-convert:hover {\n",
              "      background-color: #434B5C;\n",
              "      box-shadow: 0px 1px 3px 1px rgba(0, 0, 0, 0.15);\n",
              "      filter: drop-shadow(0px 1px 2px rgba(0, 0, 0, 0.3));\n",
              "      fill: #FFFFFF;\n",
              "    }\n",
              "  </style>\n",
              "\n",
              "      <script>\n",
              "        const buttonEl =\n",
              "          document.querySelector('#df-95054da7-58e2-4805-a40b-f98e9667201c button.colab-df-convert');\n",
              "        buttonEl.style.display =\n",
              "          google.colab.kernel.accessAllowed ? 'block' : 'none';\n",
              "\n",
              "        async function convertToInteractive(key) {\n",
              "          const element = document.querySelector('#df-95054da7-58e2-4805-a40b-f98e9667201c');\n",
              "          const dataTable =\n",
              "            await google.colab.kernel.invokeFunction('convertToInteractive',\n",
              "                                                     [key], {});\n",
              "          if (!dataTable) return;\n",
              "\n",
              "          const docLinkHtml = 'Like what you see? Visit the ' +\n",
              "            '<a target=\"_blank\" href=https://colab.research.google.com/notebooks/data_table.ipynb>data table notebook</a>'\n",
              "            + ' to learn more about interactive tables.';\n",
              "          element.innerHTML = '';\n",
              "          dataTable['output_type'] = 'display_data';\n",
              "          await google.colab.output.renderOutput(dataTable, element);\n",
              "          const docLink = document.createElement('div');\n",
              "          docLink.innerHTML = docLinkHtml;\n",
              "          element.appendChild(docLink);\n",
              "        }\n",
              "      </script>\n",
              "    </div>\n",
              "  </div>\n",
              "  "
            ]
          },
          "metadata": {},
          "execution_count": 4
        }
      ]
    },
    {
      "cell_type": "code",
      "source": [
        "# Função que usa o OpenAI para analisar o currículo do candidato\n",
        "def analyze_candidate(prompt, model_engine):\n",
        "    \n",
        "    # Faz a chamada da API\n",
        "    response = openai.ChatCompletion.create(\n",
        "        model=\"model_engine\", \n",
        "        messages=prompt,\n",
        "        max_tokens=1024,\n",
        "        top_p=1,\n",
        "        frequency_penalty=0,\n",
        "        presence_penalty=0,\n",
        "        temperature=0.5\n",
        "    )\n",
        "    \n",
        "    # Retorna a resposta do API\n",
        "    return response.choices[0].message.content"
      ],
      "metadata": {
        "id": "a_LYfC73bovE"
      },
      "execution_count": 5,
      "outputs": []
    },
    {
      "cell_type": "code",
      "source": [
        "def concatenate_resumes(file_path):\n",
        "  # Lê os currículos dos candidatos do arquivo candidate_resumes.csv\n",
        "  df = pd.read_csv(file_path, sep=';', encoding='latin-1')\n",
        "\n",
        "  # Convertendo as colunas para string\n",
        "  df['Nome'] = df['Nome'].astype(str)\n",
        "  df['Resumo'] = df['Resumo'].astype(str)\n",
        "\n",
        "  # Concatenando as colunas\n",
        "  df['Curriculo'] = df['Nome'] + '\\n' + df['Resumo']\n",
        "\n",
        "  context = '\\n\\n-------------\\nCandidato\\n\\n'.join(df['Curriculo'])\n",
        "  #print(resume)\n",
        "  return context"
      ],
      "metadata": {
        "id": "rSKtZZWcp3bT"
      },
      "execution_count": 6,
      "outputs": []
    },
    {
      "cell_type": "code",
      "source": [
        "def main():\n",
        "    # Chave da API OpenAI\n",
        "    openai.api_key = \"XXXX\"\n",
        "    \n",
        "    # Dataset #\n",
        "    file_path = \"https://raw.githubusercontent.com/gomesfg/screening-resumes-gpt4-python/main/seed/candidate_resumes.csv\"\n",
        "\n",
        "    # Define o modelo de linguagem a ser usado pelo API do OpenAI\n",
        "    model_engine = \"gpt-4\"\n",
        "    \n",
        "    # Ler o dataset e concatenar os curriculos\n",
        "    context = concatenate_resumes(file_path)\n",
        "    \n",
        "    # Define o prompt que será enviado\n",
        "    prompt = [{\"role\": \"system\", \"content\": \"Você é um software ATS (Applicant Tracking System) que faz a gestão dos processos seletivos.\"},\n",
        "              {\"role\": \"user\", \"content\": \"Escolha o candidato que possui mais experiência para ser contratado em uma vaga de cientista de dados e justifique. Informe em uma escala de 0% a 100% a compatibilidade de cada candidato com a vaga do maior para o menor. \\n\"+context+\"\"}]        \n",
        "\n",
        "    # Chama a função analyze_candidate para analisar o currículo do candidato\n",
        "    candidate_analysis = analyze_candidate(prompt, model_engine)\n",
        "    \n",
        "    # Imprime a resposta da análise\n",
        "    print(candidate_analysis)"
      ],
      "metadata": {
        "id": "J4Glhdyg18Fh"
      },
      "execution_count": 7,
      "outputs": []
    },
    {
      "cell_type": "code",
      "source": [
        "# Executa o programa principal\n",
        "if __name__ == \"__main__\":\n",
        "    main()"
      ],
      "metadata": {
        "colab": {
          "base_uri": "https://localhost:8080/"
        },
        "id": "A5O747P719-f",
        "outputId": "cd5e2ac3-baa5-4ffc-9a95-c0d465e84d5c"
      },
      "execution_count": 8,
      "outputs": [
        {
          "output_type": "stream",
          "name": "stdout",
          "text": [
            "O candidato que possui mais experiência para ser contratado em uma vaga de cientista de dados é Pedro Garcia. Ele é um engenheiro de software focado em inteligência artificial com experiência em sistemas de reconhecimento de voz, visão computacional, robótica e sistemas de aprendizado de máquina. Essas habilidades são altamente relevantes para um cientista de dados e o diferenciam dos outros candidatos.\n",
            "\n",
            "Compatibilidade com a vaga (maior para o menor):\n",
            "\n",
            "1. Pedro Garcia: 90%\n",
            "2. Miguel Rodriguez: 40% (experiência em automação e sistemas de gerenciamento de energia)\n",
            "3. João Silva: 30% (experiência em sistemas de gerenciamento de projetos, equipes, finanças e vendas)\n",
            "4. Ana Rodriguez: 25% (experiência em aplicativos de gerenciamento de tempo e sistemas de gestão de equipe)\n",
            "5. Marcos Oliveira: 20% (experiência em sistemas de gerenciamento de logística, estoques, vendas e produção)\n",
            "6. Fernanda Silva: 15% (experiência em desenvolvimento web e aplicativos de saúde)\n",
            "7. Laura Perez: 10% (experiência em sistemas de gerenciamento de recursos humanos e e-commerce)\n",
            "8. Carlos Martinez: 10% (experiência em aplicativos móveis de saúde, financeiros, viagens e bem-estar)\n",
            "9. Isabela Silva: 5% (experiência em aplicativos de fitness, alimentação, saúde mental e bem-estar)\n",
            "10. Ana Maria: 5% (experiência em aplicativos de viagens, restaurantes, entretenimento e compras)\n",
            "11. Carolina Silva: 5% (experiência em aplicativos de saúde, fitness, nutrição e saúde mental)\n",
            "12. Rafael Santos: 5% (experiência em sistemas de gerenciamento de vendas, estoques, finanças e produção)\n",
            "13. Juliana Lima: 5% (experiência em aplicativos de viagens, hospedagem, transporte e turismo)\n"
          ]
        }
      ]
    }
  ]
}